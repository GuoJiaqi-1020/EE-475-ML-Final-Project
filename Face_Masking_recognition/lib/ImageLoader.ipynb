{
 "cells": [
  {
   "cell_type": "code",
   "execution_count": 1,
   "metadata": {},
   "outputs": [],
   "source": [
    "import numpy as np\n",
    "import matplotlib.pyplot as plt\n",
    "import os\n",
    "import cv2"
   ]
  },
  {
   "cell_type": "code",
   "execution_count": 7,
   "metadata": {},
   "outputs": [],
   "source": [
    "def ImageLoader(path, class_, width, hight):\n",
    "    data = np.zeros((1, width, hight, 3))\n",
    "    labels = np.zeros(1)\n",
    "    for l, dir in enumerate(class_):\n",
    "        class_path = os.path.join(path, dir)\n",
    "        files = os.listdir(class_path)\n",
    "        files.sort()\n",
    "        for file in files:\n",
    "            image_array = cv2.imread(os.path.join(class_path,file))\n",
    "            image_array =  cv2.cvtColor(image_array, cv2.COLOR_RGB2BGR)\n",
    "            dsize = (width, hight)\n",
    "            image_array = cv2.resize(image_array, dsize)\n",
    "            image_array = image_array.reshape((1, width, hight, 3))\n",
    "            data = np.append(data,image_array, axis=0)\n",
    "            labels = np.append(labels,l)\n",
    "    data = data[1:,:,:,:]\n",
    "    labels = labels[1:]\n",
    "    return data, labels\n"
   ]
  },
  {
   "cell_type": "code",
   "execution_count": 22,
   "metadata": {},
   "outputs": [
    {
     "name": "stdout",
     "output_type": "stream",
     "text": [
      "(1559, 20, 20, 3)\n",
      "(1559,)\n"
     ]
    }
   ],
   "source": [
    "data, labels = ImageLoader('../../Data/FaceMask_dataset',['Correct'], 20, 20)\n",
    "np.save('../../Data/FaceMask_dataset/Correct.npy', data)\n",
    "print(data.shape)\n",
    "print(labels.shape)"
   ]
  },
  {
   "cell_type": "code",
   "execution_count": 23,
   "metadata": {},
   "outputs": [],
   "source": [
    "data, labels = ImageLoader('../../Data/FaceMask_dataset',['Incorrect'], 20, 20)\n",
    "np.save('../../Data/FaceMask_dataset/Incorrect.npy', data)"
   ]
  },
  {
   "cell_type": "code",
   "execution_count": 24,
   "metadata": {},
   "outputs": [],
   "source": [
    "data, labels = ImageLoader('../../Data/FaceMask_dataset',['NoMask'], 20, 20)\n",
    "np.save('../../Data/FaceMask_dataset/NoMask.npy', data)"
   ]
  },
  {
   "cell_type": "code",
   "execution_count": 30,
   "metadata": {},
   "outputs": [
    {
     "data": {
      "text/plain": [
       "<matplotlib.image.AxesImage at 0x7fd23fd87e20>"
      ]
     },
     "execution_count": 30,
     "metadata": {},
     "output_type": "execute_result"
    },
    {
     "data": {
      "image/png": "[encoded data removed]",
      "text/plain": [
       "<Figure size 432x288 with 1 Axes>"
      ]
     },
     "metadata": {
      "needs_background": "light"
     },
     "output_type": "display_data"
    }
   ],
   "source": [
    "plt.imshow(data[0,:,:,0])"
   ]
  }
 ],
 "metadata": {
  "interpreter": {
   "hash": "950b982a85032412ead92b9809fe58acc176cd502ef20a6e37ede95f8357dc8b"
  },
  "kernelspec": {
   "display_name": "Python 3.9.7 64-bit ('base': conda)",
   "language": "python",
   "name": "python3"
  },
  "language_info": {
   "codemirror_mode": {
    "name": "ipython",
    "version": 3
   },
   "file_extension": ".py",
   "mimetype": "text/x-python",
   "name": "python",
   "nbconvert_exporter": "python",
   "pygments_lexer": "ipython3",
   "version": "3.8.5"
  },
  "orig_nbformat": 4
 },
 "nbformat": 4,
 "nbformat_minor": 2
}
