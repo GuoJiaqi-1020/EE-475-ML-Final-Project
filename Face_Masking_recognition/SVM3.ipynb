{
 "cells": [
  {
   "cell_type": "code",
   "execution_count": 33,
   "metadata": {},
   "outputs": [],
   "source": [
    "import numpy as np\n",
    "import matplotlib.pyplot as plt\n",
    "import cv2\n",
    "import sklearn.svm as svm\n",
    "from sklearn.pipeline import make_pipeline\n",
    "from sklearn.preprocessing import StandardScaler\n",
    "from sklearn.model_selection import train_test_split\n",
    "from sklearn import metrics\n",
    "import os\n"
   ]
  },
  {
   "cell_type": "code",
   "execution_count": 3,
   "metadata": {},
   "outputs": [],
   "source": [
    "def RGBtoGray(data):\n",
    "    new_data = np.zeros((1, data.shape[1], data.shape[2]))\n",
    "    for im in data:\n",
    "        new_data = np.append(new_data, cv2.cvtColor(im.astype('float32'),cv2.COLOR_RGB2GRAY).reshape(1,data.shape[1], data.shape[2]), axis=0)\n",
    "    return new_data[1:,:,:]"
   ]
  },
  {
   "cell_type": "code",
   "execution_count": 4,
   "metadata": {},
   "outputs": [],
   "source": [
    "def Flatten(images):\n",
    "    images = images.reshape(images.shape[0], -1)\n",
    "    return images"
   ]
  },
  {
   "cell_type": "code",
   "execution_count": 43,
   "metadata": {},
   "outputs": [],
   "source": [
    "def load(data_path):\n",
    "    for i, set in enumerate(['Correct', 'Incorrect', 'NoMask']):\n",
    "        if i == 0:\n",
    "            data = np.load(data_path+set+'.npy')\n",
    "            labels = np.array([i]*len(data))\n",
    "            i += 1\n",
    "        else:\n",
    "            data_ = np.load(data_path+set+'.npy')\n",
    "            data = np.append(data,data_, axis=0)\n",
    "            labels = np.append(labels, np.array([i]*len(data_)), axis=0)\n",
    "    print(data.shape, np.array(labels).shape)\n",
    "    return data, labels\n"
   ]
  },
  {
   "cell_type": "code",
   "execution_count": 48,
   "metadata": {},
   "outputs": [],
   "source": [
    "def train_svm(data_path):\n",
    "    data, labels = load(data_path)\n",
    "    x = Flatten(RGBtoGray(data)) \n",
    "    x_train, x_test , y_train, y_test = train_test_split(x,labels, test_size = 0.2)\n",
    "    clf = make_pipeline( StandardScaler(), svm.SVC(cache_size=4000, verbose=True))\n",
    "    clf.fit(x_train, y_train)\n",
    "    predict = clf.predict(x_test)\n",
    "    print(metrics.accuracy_score(y_test, predict))  "
   ]
  },
  {
   "cell_type": "code",
   "execution_count": 50,
   "metadata": {},
   "outputs": [
    {
     "name": "stdout",
     "output_type": "stream",
     "text": [
      "(4559, 20, 20, 3) (4559,)\n",
      "[LibSVM]0.893640350877193\n",
      "(4559, 50, 50, 3) (4559,)\n",
      "[LibSVM]0.8925438596491229\n",
      "(4559, 100, 100, 3) (4559,)\n",
      "[LibSVM]0.8848684210526315\n"
     ]
    }
   ],
   "source": [
    "train_svm('../Data/FaceMask_dataset/Pixel20/')\n",
    "train_svm('../Data/FaceMask_dataset/Pixel50/')\n",
    "train_svm('../Data/FaceMask_dataset/Pixel100/')"
   ]
  },
  {
   "cell_type": "code",
   "execution_count": 46,
   "metadata": {},
   "outputs": [
    {
     "name": "stdout",
     "output_type": "stream",
     "text": [
      "(4559, 20, 20, 3) (4559,)\n"
     ]
    }
   ],
   "source": [
    "data, labels = load('../Data/FaceMask_dataset/Pixel20/')\n",
    "x = Flatten(RGBtoGray(data)) \n",
    "x_train, x_test , y_train, y_test = train_test_split(x,labels, test_size = 0.2)"
   ]
  },
  {
   "cell_type": "code",
   "execution_count": 47,
   "metadata": {},
   "outputs": [
    {
     "name": "stdout",
     "output_type": "stream",
     "text": [
      "[LibSVM]0.881578947368421\n"
     ]
    }
   ],
   "source": [
    "clf = make_pipeline( StandardScaler(), svm.SVC(cache_size=4000, verbose=True))\n",
    "clf.fit(x_train, y_train)\n",
    "predict = clf.predict(x_test)\n",
    "print(metrics.accuracy_score(y_test, predict))"
   ]
  },
  {
   "cell_type": "code",
   "execution_count": null,
   "metadata": {},
   "outputs": [],
   "source": []
  },
  {
   "cell_type": "code",
   "execution_count": null,
   "metadata": {},
   "outputs": [],
   "source": []
  }
 ],
 "metadata": {
  "interpreter": {
   "hash": "cd876119c40028cab099c61ef2a2b5818981311f73eb916c96f6645cbc4fa9aa"
  },
  "kernelspec": {
   "display_name": "Python 3.8.5 64-bit ('ML': conda)",
   "language": "python",
   "name": "python3"
  },
  "language_info": {
   "codemirror_mode": {
    "name": "ipython",
    "version": 3
   },
   "file_extension": ".py",
   "mimetype": "text/x-python",
   "name": "python",
   "nbconvert_exporter": "python",
   "pygments_lexer": "ipython3",
   "version": "3.8.5"
  },
  "orig_nbformat": 4
 },
 "nbformat": 4,
 "nbformat_minor": 2
}
